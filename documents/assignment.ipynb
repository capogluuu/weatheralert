{
  "nbformat": 4,
  "nbformat_minor": 0,
  "metadata": {
    "colab": {
      "name": "assignment.ipynb",
      "provenance": [],
      "collapsed_sections": []
    },
    "kernelspec": {
      "name": "python3",
      "display_name": "Python 3"
    },
    "language_info": {
      "name": "python"
    }
  },
  "cells": [
    {
      "cell_type": "code",
      "execution_count": 1,
      "metadata": {
        "colab": {
          "base_uri": "https://localhost:8080/"
        },
        "id": "HOXlKepCUkXq",
        "outputId": "df98b68a-52de-4c2d-c511-30e5ce5f5f79"
      },
      "outputs": [
        {
          "output_type": "stream",
          "name": "stdout",
          "text": [
            "fatal: destination path 'weatheralert' already exists and is not an empty directory.\n"
          ]
        }
      ],
      "source": [
        "!git clone https://github.com/capogluuu/weatheralert.git"
      ]
    },
    {
      "cell_type": "code",
      "source": [
        "%cd weatheralert"
      ],
      "metadata": {
        "colab": {
          "base_uri": "https://localhost:8080/"
        },
        "id": "gGwmFFqUUteq",
        "outputId": "55d9dd9f-c5e9-4e78-9af9-b85c2bd78f5e"
      },
      "execution_count": 2,
      "outputs": [
        {
          "output_type": "stream",
          "name": "stdout",
          "text": [
            "/content/weatheralert\n"
          ]
        }
      ]
    },
    {
      "cell_type": "code",
      "source": [
        "import pandas as pd\n",
        "import requests"
      ],
      "metadata": {
        "id": "Op-byQF8nga1"
      },
      "execution_count": 3,
      "outputs": []
    },
    {
      "cell_type": "code",
      "source": [
        "# read setting data and rewrite\n",
        "setting_default_text = \"\"\"# Location Information\n",
        "latitude = 39.7456\n",
        "longitude = -97.0892\n",
        "\n",
        "# Application Settings\n",
        "threshold_value = 80\n",
        "check_in_frequency = 30\n",
        "\n",
        "\"\"\"\n",
        "\n",
        "a_file = open(\"settings.txt\", \"r\")\n",
        "list_of_lines = a_file.readlines()\n",
        "a_file.close()\n",
        "\n",
        "set_dict = {} \n",
        "for i in range(len(list_of_lines)):\n",
        "  for j in range(len(list_of_lines[i].split(\"= \"))):\n",
        "    temp_variable = list_of_lines[i].split(\"= \")[j].strip()\n",
        "    if(temp_variable == \"latitude\" or \n",
        "       temp_variable == \"longitude\" or\n",
        "       temp_variable == \"threshold_value\" or\n",
        "       temp_variable == \"check_in_frequency\"):\n",
        "      set_dict[temp_variable] = list_of_lines[i].split(\"= \")[j+1].replace(\"\\n\",\"\")\n",
        "\n",
        "defaultdict = set_dict \n",
        "\n",
        "setting_text_template= \"\"\"# Location Information\n",
        "latitude = {latitude}\n",
        "longitude = {longitude}\n",
        "\n",
        "# Application Settings\n",
        "threshold_value = {threshold_value}\n",
        "check_in_frequency = {check_in_frequency}\"\"\".format(latitude = 3,longitude = 3,\n",
        "                                                    threshold_value = 3,check_in_frequency = 3)\n",
        "with open('settings.txt', \"w\") as myfile:\n",
        "    myfile.write(setting_text_template)"
      ],
      "metadata": {
        "id": "bXimYEHgVYaT"
      },
      "execution_count": 4,
      "outputs": []
    },
    {
      "cell_type": "code",
      "source": [
        "response = requests.get(f'https://api.weather.gov/points/{39.7456},{-97.0892}')\n",
        "data = response.json()\n",
        "data"
      ],
      "metadata": {
        "colab": {
          "base_uri": "https://localhost:8080/"
        },
        "id": "YMv5TFInU-Rn",
        "outputId": "063d1de2-d0e1-4724-8efe-88ab24cb1713"
      },
      "execution_count": 5,
      "outputs": [
        {
          "output_type": "execute_result",
          "data": {
            "text/plain": [
              "{'@context': ['https://geojson.org/geojson-ld/geojson-context.jsonld',\n",
              "  {'@version': '1.1',\n",
              "   '@vocab': 'https://api.weather.gov/ontology#',\n",
              "   'bearing': {'@type': 's:QuantitativeValue'},\n",
              "   'city': 's:addressLocality',\n",
              "   'county': {'@type': '@id'},\n",
              "   'distance': {'@id': 's:Distance', '@type': 's:QuantitativeValue'},\n",
              "   'forecastGridData': {'@type': '@id'},\n",
              "   'forecastOffice': {'@type': '@id'},\n",
              "   'geo': 'http://www.opengis.net/ont/geosparql#',\n",
              "   'geometry': {'@id': 's:GeoCoordinates', '@type': 'geo:wktLiteral'},\n",
              "   'publicZone': {'@type': '@id'},\n",
              "   's': 'https://schema.org/',\n",
              "   'state': 's:addressRegion',\n",
              "   'unit': 'http://codes.wmo.int/common/unit/',\n",
              "   'unitCode': {'@id': 's:unitCode', '@type': '@id'},\n",
              "   'value': {'@id': 's:value'},\n",
              "   'wx': 'https://api.weather.gov/ontology#'}],\n",
              " 'geometry': {'coordinates': [-97.0892, 39.7456], 'type': 'Point'},\n",
              " 'id': 'https://api.weather.gov/points/39.7456,-97.0892',\n",
              " 'properties': {'@id': 'https://api.weather.gov/points/39.7456,-97.0892',\n",
              "  '@type': 'wx:Point',\n",
              "  'county': 'https://api.weather.gov/zones/county/KSC201',\n",
              "  'cwa': 'TOP',\n",
              "  'fireWeatherZone': 'https://api.weather.gov/zones/fire/KSZ009',\n",
              "  'forecast': 'https://api.weather.gov/gridpoints/TOP/31,80/forecast',\n",
              "  'forecastGridData': 'https://api.weather.gov/gridpoints/TOP/31,80',\n",
              "  'forecastHourly': 'https://api.weather.gov/gridpoints/TOP/31,80/forecast/hourly',\n",
              "  'forecastOffice': 'https://api.weather.gov/offices/TOP',\n",
              "  'forecastZone': 'https://api.weather.gov/zones/forecast/KSZ009',\n",
              "  'gridId': 'TOP',\n",
              "  'gridX': 31,\n",
              "  'gridY': 80,\n",
              "  'observationStations': 'https://api.weather.gov/gridpoints/TOP/31,80/stations',\n",
              "  'radarStation': 'KTWX',\n",
              "  'relativeLocation': {'geometry': {'coordinates': [-97.086661, 39.679376],\n",
              "    'type': 'Point'},\n",
              "   'properties': {'bearing': {'unitCode': 'wmoUnit:degree_(angle)',\n",
              "     'value': 358},\n",
              "    'city': 'Linn',\n",
              "    'distance': {'unitCode': 'wmoUnit:m', 'value': 7366.9851976444},\n",
              "    'state': 'KS'},\n",
              "   'type': 'Feature'},\n",
              "  'timeZone': 'America/Chicago'},\n",
              " 'type': 'Feature'}"
            ]
          },
          "metadata": {},
          "execution_count": 5
        }
      ]
    },
    {
      "cell_type": "code",
      "source": [
        "response = requests.get(data[\"properties\"][\"forecastHourly\"])\n",
        "data1 = response.json()"
      ],
      "metadata": {
        "id": "3IGGB3f8fFNx"
      },
      "execution_count": 6,
      "outputs": []
    },
    {
      "cell_type": "code",
      "source": [
        "data1"
      ],
      "metadata": {
        "id": "-ECjZctd0OHO"
      },
      "execution_count": null,
      "outputs": []
    },
    {
      "cell_type": "code",
      "source": [
        "df = pd.DataFrame(data1[\"properties\"][\"periods\"])\n",
        "df.head(2)"
      ],
      "metadata": {
        "colab": {
          "base_uri": "https://localhost:8080/",
          "height": 245
        },
        "id": "3f0f3Z1nf627",
        "outputId": "420caa12-93dd-43dc-ff08-f8df8e0c29de"
      },
      "execution_count": 8,
      "outputs": [
        {
          "output_type": "execute_result",
          "data": {
            "text/html": [
              "\n",
              "  <div id=\"df-7d2a82fd-421a-4b2f-a030-13e40419bfaf\">\n",
              "    <div class=\"colab-df-container\">\n",
              "      <div>\n",
              "<style scoped>\n",
              "    .dataframe tbody tr th:only-of-type {\n",
              "        vertical-align: middle;\n",
              "    }\n",
              "\n",
              "    .dataframe tbody tr th {\n",
              "        vertical-align: top;\n",
              "    }\n",
              "\n",
              "    .dataframe thead th {\n",
              "        text-align: right;\n",
              "    }\n",
              "</style>\n",
              "<table border=\"1\" class=\"dataframe\">\n",
              "  <thead>\n",
              "    <tr style=\"text-align: right;\">\n",
              "      <th></th>\n",
              "      <th>number</th>\n",
              "      <th>name</th>\n",
              "      <th>startTime</th>\n",
              "      <th>endTime</th>\n",
              "      <th>isDaytime</th>\n",
              "      <th>temperature</th>\n",
              "      <th>temperatureUnit</th>\n",
              "      <th>temperatureTrend</th>\n",
              "      <th>windSpeed</th>\n",
              "      <th>windDirection</th>\n",
              "      <th>icon</th>\n",
              "      <th>shortForecast</th>\n",
              "      <th>detailedForecast</th>\n",
              "    </tr>\n",
              "  </thead>\n",
              "  <tbody>\n",
              "    <tr>\n",
              "      <th>0</th>\n",
              "      <td>1</td>\n",
              "      <td></td>\n",
              "      <td>2022-01-28T02:00:00-06:00</td>\n",
              "      <td>2022-01-28T03:00:00-06:00</td>\n",
              "      <td>False</td>\n",
              "      <td>24</td>\n",
              "      <td>F</td>\n",
              "      <td>None</td>\n",
              "      <td>10 mph</td>\n",
              "      <td>N</td>\n",
              "      <td>https://api.weather.gov/icons/land/night/bkn?s...</td>\n",
              "      <td>Mostly Cloudy</td>\n",
              "      <td></td>\n",
              "    </tr>\n",
              "    <tr>\n",
              "      <th>1</th>\n",
              "      <td>2</td>\n",
              "      <td></td>\n",
              "      <td>2022-01-28T03:00:00-06:00</td>\n",
              "      <td>2022-01-28T04:00:00-06:00</td>\n",
              "      <td>False</td>\n",
              "      <td>23</td>\n",
              "      <td>F</td>\n",
              "      <td>None</td>\n",
              "      <td>5 mph</td>\n",
              "      <td>N</td>\n",
              "      <td>https://api.weather.gov/icons/land/night/sct?s...</td>\n",
              "      <td>Partly Cloudy</td>\n",
              "      <td></td>\n",
              "    </tr>\n",
              "  </tbody>\n",
              "</table>\n",
              "</div>\n",
              "      <button class=\"colab-df-convert\" onclick=\"convertToInteractive('df-7d2a82fd-421a-4b2f-a030-13e40419bfaf')\"\n",
              "              title=\"Convert this dataframe to an interactive table.\"\n",
              "              style=\"display:none;\">\n",
              "        \n",
              "  <svg xmlns=\"http://www.w3.org/2000/svg\" height=\"24px\"viewBox=\"0 0 24 24\"\n",
              "       width=\"24px\">\n",
              "    <path d=\"M0 0h24v24H0V0z\" fill=\"none\"/>\n",
              "    <path d=\"M18.56 5.44l.94 2.06.94-2.06 2.06-.94-2.06-.94-.94-2.06-.94 2.06-2.06.94zm-11 1L8.5 8.5l.94-2.06 2.06-.94-2.06-.94L8.5 2.5l-.94 2.06-2.06.94zm10 10l.94 2.06.94-2.06 2.06-.94-2.06-.94-.94-2.06-.94 2.06-2.06.94z\"/><path d=\"M17.41 7.96l-1.37-1.37c-.4-.4-.92-.59-1.43-.59-.52 0-1.04.2-1.43.59L10.3 9.45l-7.72 7.72c-.78.78-.78 2.05 0 2.83L4 21.41c.39.39.9.59 1.41.59.51 0 1.02-.2 1.41-.59l7.78-7.78 2.81-2.81c.8-.78.8-2.07 0-2.86zM5.41 20L4 18.59l7.72-7.72 1.47 1.35L5.41 20z\"/>\n",
              "  </svg>\n",
              "      </button>\n",
              "      \n",
              "  <style>\n",
              "    .colab-df-container {\n",
              "      display:flex;\n",
              "      flex-wrap:wrap;\n",
              "      gap: 12px;\n",
              "    }\n",
              "\n",
              "    .colab-df-convert {\n",
              "      background-color: #E8F0FE;\n",
              "      border: none;\n",
              "      border-radius: 50%;\n",
              "      cursor: pointer;\n",
              "      display: none;\n",
              "      fill: #1967D2;\n",
              "      height: 32px;\n",
              "      padding: 0 0 0 0;\n",
              "      width: 32px;\n",
              "    }\n",
              "\n",
              "    .colab-df-convert:hover {\n",
              "      background-color: #E2EBFA;\n",
              "      box-shadow: 0px 1px 2px rgba(60, 64, 67, 0.3), 0px 1px 3px 1px rgba(60, 64, 67, 0.15);\n",
              "      fill: #174EA6;\n",
              "    }\n",
              "\n",
              "    [theme=dark] .colab-df-convert {\n",
              "      background-color: #3B4455;\n",
              "      fill: #D2E3FC;\n",
              "    }\n",
              "\n",
              "    [theme=dark] .colab-df-convert:hover {\n",
              "      background-color: #434B5C;\n",
              "      box-shadow: 0px 1px 3px 1px rgba(0, 0, 0, 0.15);\n",
              "      filter: drop-shadow(0px 1px 2px rgba(0, 0, 0, 0.3));\n",
              "      fill: #FFFFFF;\n",
              "    }\n",
              "  </style>\n",
              "\n",
              "      <script>\n",
              "        const buttonEl =\n",
              "          document.querySelector('#df-7d2a82fd-421a-4b2f-a030-13e40419bfaf button.colab-df-convert');\n",
              "        buttonEl.style.display =\n",
              "          google.colab.kernel.accessAllowed ? 'block' : 'none';\n",
              "\n",
              "        async function convertToInteractive(key) {\n",
              "          const element = document.querySelector('#df-7d2a82fd-421a-4b2f-a030-13e40419bfaf');\n",
              "          const dataTable =\n",
              "            await google.colab.kernel.invokeFunction('convertToInteractive',\n",
              "                                                     [key], {});\n",
              "          if (!dataTable) return;\n",
              "\n",
              "          const docLinkHtml = 'Like what you see? Visit the ' +\n",
              "            '<a target=\"_blank\" href=https://colab.research.google.com/notebooks/data_table.ipynb>data table notebook</a>'\n",
              "            + ' to learn more about interactive tables.';\n",
              "          element.innerHTML = '';\n",
              "          dataTable['output_type'] = 'display_data';\n",
              "          await google.colab.output.renderOutput(dataTable, element);\n",
              "          const docLink = document.createElement('div');\n",
              "          docLink.innerHTML = docLinkHtml;\n",
              "          element.appendChild(docLink);\n",
              "        }\n",
              "      </script>\n",
              "    </div>\n",
              "  </div>\n",
              "  "
            ],
            "text/plain": [
              "   number name  ...  shortForecast detailedForecast\n",
              "0       1       ...  Mostly Cloudy                 \n",
              "1       2       ...  Partly Cloudy                 \n",
              "\n",
              "[2 rows x 13 columns]"
            ]
          },
          "metadata": {},
          "execution_count": 8
        }
      ]
    },
    {
      "cell_type": "code",
      "source": [
        "def convert_to_date(date_time_str, event = \"undefined\"):\n",
        "  date_dict = {}\n",
        "  date_dict[f\"{event}_date\"] = date_time_str.split(\"T\")[0]\n",
        "  date_time_str = date_time_str.split(\"T\")[1]\n",
        "  date_dict[f\"{event}_hour\"] = date_time_str.split(\"-\")[0]\n",
        "  return date_dict"
      ],
      "metadata": {
        "id": "uSPMkkyQjw5T"
      },
      "execution_count": 9,
      "outputs": []
    },
    {
      "cell_type": "code",
      "source": [
        "convert_to_date('2022-01-28T01:00:00-06:00')"
      ],
      "metadata": {
        "colab": {
          "base_uri": "https://localhost:8080/"
        },
        "id": "NvgbV_jOlXx6",
        "outputId": "c7359045-d20c-4169-f87c-997360b7cce8"
      },
      "execution_count": 10,
      "outputs": [
        {
          "output_type": "execute_result",
          "data": {
            "text/plain": [
              "{'undefined_date': '2022-01-28', 'undefined_hour': '01:00:00'}"
            ]
          },
          "metadata": {},
          "execution_count": 10
        }
      ]
    },
    {
      "cell_type": "code",
      "source": [
        "list_of_time_start = [convert_to_date(temp_text, \"startTime\") for temp_text in df[\"startTime\"]]\n",
        "list_of_time_end   = [convert_to_date(temp_text ,\"endTime\") for temp_text in df[\"endTime\"]]"
      ],
      "metadata": {
        "id": "-3akDw4GjHbY"
      },
      "execution_count": 11,
      "outputs": []
    },
    {
      "cell_type": "code",
      "source": [
        "df2 = pd.DataFrame(list_of_time_start)\n",
        "df3 = pd.DataFrame(list_of_time_end)\n",
        "frames = [df, df2, df3]\n",
        "result = pd.concat(frames,axis=1)\n",
        "del result[\"number\"]\n",
        "del result[\"endTime\"]\n",
        "\n",
        "result = result[['name','startTime','startTime_date', 'startTime_hour',\n",
        "       'endTime_date', 'endTime_hour','isDaytime', 'temperature', 'temperatureUnit',\n",
        "       'temperatureTrend', 'windSpeed', 'windDirection', 'icon',\n",
        "       'shortForecast', 'detailedForecast']]\n",
        "result = result.head(9)"
      ],
      "metadata": {
        "id": "29SQHFPcm-8U"
      },
      "execution_count": 12,
      "outputs": []
    },
    {
      "cell_type": "code",
      "source": [
        "import pandas as pd\n",
        "\n",
        "def create_database_table(df,\n",
        "                          latitude = 3,\n",
        "                          longitude = 3,\n",
        "                          threshold_value = 3,\n",
        "                          check_in_frequency = 3 ):\n",
        "  print(\"1. step\")\n",
        "  timestamp = []\n",
        "  longitude = []\n",
        "  latitude = []\n",
        "  first_forecast = [] \n",
        "  second_forecast = []\n",
        "  third_forecast  = []\n",
        "  ls_alert_generated = []\n",
        "  ls_alert_id = []\n",
        "\n",
        "  print(\"2. step\")\n",
        "  for i in range(len(df)-check_in_frequency):\n",
        "    timestamp.append(df[\"startTime\"][i])\n",
        "    longitude.append(longitude)\n",
        "    latitude.append(latitude)\n",
        "    first_forecast.append(df[\"temperature\"][i])\n",
        "    second_forecast.append(df[\"temperature\"][i+1])\n",
        "    third_forecast.append(df[\"temperature\"][i+2])\n",
        "  \n",
        "  print(\"3. step\")\n",
        "  #alert system\n",
        "  for i in range(len(first_forecast)):\n",
        "    alert_generated = False\n",
        "    alert_id = \"no_problem\"\n",
        "    large_range = third_forecast[i] - first_forecast[i]\n",
        "    small_range_1 = second_forecast[i] - first_forecast[i]\n",
        "    small_range_2 = third_forecast[i] - second_forecast[i]\n",
        "    \n",
        "    if( abs(large_range) >= threshold_value or\n",
        "       abs(small_range_1) >= threshold_value or\n",
        "       abs(small_range_2) >= threshold_value):\n",
        "      \n",
        "      alert_generated = True\n",
        "      if(large_range < 0 ): alert_id= \"low-temp\"\n",
        "      else : alert_id= \"high-temp\"\n",
        "  \n",
        "    \n",
        "    ls_alert_generated.append(alert_generated)\n",
        "    ls_alert_id.append(alert_id)\n",
        "\n",
        "  print(\"4. step\")\n",
        "  temp_data = {'timestamp': timestamp, \n",
        "        'longitude': longitude,\n",
        "        'latitude':latitude,\n",
        "        'first_forecast':first_forecast,\n",
        "        'second_forecast':second_forecast,\n",
        "        'third_forecast':third_forecast,\n",
        "        'alert_generated':ls_alert_generated,\n",
        "        'alert_id':ls_alert_id\n",
        "        }\n",
        "  \n",
        "  db_df = pd.DataFrame(data = temp_data)\n",
        "\n",
        "  return db_df"
      ],
      "metadata": {
        "id": "8F1OgZeKqv-A"
      },
      "execution_count": 13,
      "outputs": []
    },
    {
      "cell_type": "code",
      "source": [
        "create_database_table(result)"
      ],
      "metadata": {
        "id": "XCxA_67OdPhY"
      },
      "execution_count": null,
      "outputs": []
    },
    {
      "cell_type": "code",
      "source": [
        ""
      ],
      "metadata": {
        "id": "kUqYlMDHzhyQ"
      },
      "execution_count": null,
      "outputs": []
    }
  ]
}